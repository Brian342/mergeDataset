{
 "cells": [
  {
   "cell_type": "markdown",
   "id": "9833f648-b4bd-4dc0-bd15-3ce0a8c8a354",
   "metadata": {},
   "source": [
    "# Reviews Company"
   ]
  },
  {
   "cell_type": "code",
   "execution_count": null,
   "id": "c156b9f8-3b62-4e8a-946f-d74a64b33fc3",
   "metadata": {},
   "outputs": [],
   "source": [
    "# !conda install -c conda-forge sentence-transformers\n",
    "# !pip install scikit-learn\n",
    "# !pip install numpy pandas\n",
    "# !pip show sentence-transformers"
   ]
  },
  {
   "cell_type": "code",
   "execution_count": null,
   "id": "304cadf8-0df7-439a-85e6-8819d5d34f08",
   "metadata": {},
   "outputs": [],
   "source": [
    "# import required packages\n",
    "import pandas as pd\n",
    "import numpy as np\n",
    "import spacy\n",
    "import re\n",
    "from spacy.matcher import PhraseMatcher\n",
    "from sentence_transformers import SentenceTransformer\n",
    "from sklearn.metrics.pairwise import cosine_similarity\n",
    "import warnings\n",
    "warnings.filterwarnings(\"ignore\")"
   ]
  },
  {
   "cell_type": "code",
   "execution_count": null,
   "id": "b7b7d85d-2fcb-4f7c-8366-fd3c783986ca",
   "metadata": {},
   "outputs": [],
   "source": [
    "pd.set_option(\"display.max_colwidth\",None)\n",
    "# pd.reset_option(\"display.max_row\",None)"
   ]
  },
  {
   "cell_type": "code",
   "execution_count": null,
   "id": "45235402-d863-41bd-b488-2b07a0e8e81e",
   "metadata": {
    "scrolled": true
   },
   "outputs": [],
   "source": [
    "data = pd.read_csv(\"Data_Merge_Reviews.csv\")\n",
    "data"
   ]
  },
  {
   "cell_type": "code",
   "execution_count": null,
   "id": "a35fb2d1-2b81-4ca6-9a35-1b19ce49c232",
   "metadata": {},
   "outputs": [],
   "source": [
    "# using \n",
    "data2 = data"
   ]
  },
  {
   "cell_type": "code",
   "execution_count": null,
   "id": "06df1890-370b-4679-b9e5-d0a1adcb1fb2",
   "metadata": {
    "scrolled": true
   },
   "outputs": [],
   "source": [
    "def split_info(df: pd.Series)-> pd.DataFrame:\n",
    "    employment_type = []\n",
    "    role_type = []\n",
    "    duration = []\n",
    "    for raw in df:\n",
    "        data = raw.split()\n",
    "        emp = rol = dur = \"default\"\n",
    "\n",
    "        if len(data) >=2:\n",
    "            emp = data[0]\n",
    "            rol = data[1].replace(\",\", \"\")\n",
    "\n",
    "        if \"less than 1 year\" in raw:\n",
    "            dur = \"<1 year\"\n",
    "        elif \"more than 1 year\" in raw:\n",
    "            dur = \"1 - 3 year\"\n",
    "        elif \"more than 3 years\" in raw:\n",
    "            dur = \">3 year\"\n",
    "        employment_type.append(emp)\n",
    "        role_type.append(rol)\n",
    "        duration.append(dur)\n",
    "         \n",
    "    return pd.DataFrame({\n",
    "       \"Employment_Type\":employment_type,\n",
    "        \"Role_Type\":role_type,\n",
    "        \"Duration\":duration\n",
    "    })\n",
    "new_cols = split_info(data2[\"Job Status\"])"
   ]
  },
  {
   "cell_type": "code",
   "execution_count": null,
   "id": "ca430e5f-a8c3-4539-aa50-63c38b56a2e6",
   "metadata": {},
   "outputs": [],
   "source": [
    "data2 = pd.concat([data2, new_cols], axis=1)\n",
    "data2 = data2[\n",
    "    [\"Job Title\", \"Job Rating\", \"Time\", \"Job Status\", \n",
    "     \"Employment_Type\", \"Role_Type\", \"Duration\",\n",
    "     \"Pros\", \"Cons\", \"Company_Name\"]\n",
    "]"
   ]
  },
  {
   "cell_type": "code",
   "execution_count": null,
   "id": "5dada8e1-2a5b-4b11-880b-5d3a8a1bb400",
   "metadata": {
    "scrolled": true
   },
   "outputs": [],
   "source": [
    "# data2.drop([\"Employment_Type\", \"Role_Type\", \"Duration\"], axis=1, inplace=True)"
   ]
  },
  {
   "cell_type": "code",
   "execution_count": null,
   "id": "0bfe0f4b-5b1b-4dc8-9e72-59c5b349c727",
   "metadata": {
    "scrolled": true
   },
   "outputs": [],
   "source": [
    "data2"
   ]
  },
  {
   "cell_type": "code",
   "execution_count": null,
   "id": "817c0baf-e150-48e0-90d5-044343a9d209",
   "metadata": {},
   "outputs": [],
   "source": [
    "data2[\"Employment_Type\"].unique().tolist()"
   ]
  },
  {
   "cell_type": "code",
   "execution_count": null,
   "id": "7e46061e-5f2d-4c44-a666-aa760d79167a",
   "metadata": {},
   "outputs": [],
   "source": [
    "data2[data2[\"Employment_Type\"] == \"KEY\"]"
   ]
  },
  {
   "cell_type": "code",
   "execution_count": null,
   "id": "e7db1b69-c934-4dc0-bb81-6b4d0367c43d",
   "metadata": {},
   "outputs": [],
   "source": [
    "data2.drop(467, axis=0, inplace=True)"
   ]
  },
  {
   "cell_type": "code",
   "execution_count": null,
   "id": "b0275695-bc0b-4bd3-a560-343302ffc8a5",
   "metadata": {},
   "outputs": [],
   "source": [
    "data2.set_index(\"Job Title\", inplace=True)"
   ]
  },
  {
   "cell_type": "code",
   "execution_count": null,
   "id": "ab85b29b-e339-43c8-aeaa-301f18c5aee8",
   "metadata": {
    "scrolled": true
   },
   "outputs": [],
   "source": [
    "data2= data2.reset_index()"
   ]
  },
  {
   "cell_type": "code",
   "execution_count": null,
   "id": "c44a6b7b-35a2-46b3-83d9-a02ecf6e626c",
   "metadata": {},
   "outputs": [],
   "source": [
    "data2[\"Role_Type\"].unique().tolist()"
   ]
  },
  {
   "cell_type": "code",
   "execution_count": null,
   "id": "27cee818-26c5-4b9e-a3c2-1b6837cb2630",
   "metadata": {
    "scrolled": true
   },
   "outputs": [],
   "source": [
    "# jobrole = {\"intern\":\"Internship\"}"
   ]
  },
  {
   "cell_type": "code",
   "execution_count": null,
   "id": "73de9170-3bd9-4fbf-a76d-c80cec924466",
   "metadata": {
    "scrolled": true
   },
   "outputs": [],
   "source": [
    "data2[\"Role_Type\"].replace(\"intern\", \"internship\",inplace=True)"
   ]
  },
  {
   "cell_type": "code",
   "execution_count": null,
   "id": "d11b6408-a001-4dfd-a374-d3d48203ae53",
   "metadata": {
    "scrolled": true
   },
   "outputs": [],
   "source": [
    "# Normalize text (lowercase, remove weird symbols, etc.).\n",
    "data2[\"Pros\"] = data2[\"Pros\"].str.lower()"
   ]
  },
  {
   "cell_type": "code",
   "execution_count": null,
   "id": "87ed6948-7f13-41f9-933d-cef59fe1985a",
   "metadata": {},
   "outputs": [],
   "source": [
    "data2[\"Job Title\"] = data2[\"Job Title\"].str.lower()"
   ]
  },
  {
   "cell_type": "code",
   "execution_count": null,
   "id": "bdcf1d0d-c540-4e62-bd10-bec6530a4948",
   "metadata": {},
   "outputs": [],
   "source": [
    "# This command is used to change the it's to it is \n",
    "import contractions\n",
    "data2[\"Cons\"] = data2[\"Cons\"].apply(lambda x: contractions.fix(x) if isinstance(x, str) else x)"
   ]
  },
  {
   "cell_type": "code",
   "execution_count": null,
   "id": "b2e4edc9-36bb-48d0-b47f-2dea5bb54514",
   "metadata": {
    "scrolled": true
   },
   "outputs": [],
   "source": [
    "data2[[\"Cons\",\"Company_Name\"]].head(50)"
   ]
  },
  {
   "cell_type": "code",
   "execution_count": null,
   "id": "cf3be4e9-8e3e-453f-8f83-849250808084",
   "metadata": {},
   "outputs": [],
   "source": [
    "from spellchecker import SpellChecker\n",
    "spell = SpellChecker()\n",
    "\n",
    "def correct_sentence(text):\n",
    "    if not isinstance(text, str):\n",
    "        text = \"\"\n",
    "    words = text.split()\n",
    "    correct_words = []\n",
    "\n",
    "    for word in words:\n",
    "        if word.lower() in spell:\n",
    "            correct_words.append(word)\n",
    "        else:\n",
    "            correction = spell.correction(word)\n",
    "            correct_words.append(correction if correction else word)\n",
    "            \n",
    "    return \" \".join(correct_words)"
   ]
  },
  {
   "cell_type": "code",
   "execution_count": null,
   "id": "1c281650-7585-4b0f-b917-cd5886790882",
   "metadata": {
    "scrolled": true
   },
   "outputs": [],
   "source": [
    "# data2[\"Corrected_Cons\"] = data2[\"Cons\"].fillna(\"\").apply(correct_sentence)\n",
    "data2"
   ]
  },
  {
   "cell_type": "code",
   "execution_count": null,
   "id": "d8353a6a-8f75-42a7-baac-3d1b2e48f06c",
   "metadata": {
    "scrolled": true
   },
   "outputs": [],
   "source": [
    "# load spacy\n",
    "nlp = spacy.load(\"en_core_web_lg\")\n",
    "\n",
    "# patterns = [\n",
    "#            \"ict technician\", \"ict officer\", \"ict manager\", \"ict consultant\", \"ict manager\", \"ict project manager\",\n",
    "#            \"ict security analyst\", \"ict service desk analyst\", \"ict - software engineer\", \"ict applications support\"]\n",
    "\n",
    "# adding entity rule\n",
    "matcher = PhraseMatcher(nlp.vocab, attr=\"LOWER\")\n",
    "unique_titles = data2[\"Job Title\"].dropna().unique().tolist()\n",
    "pattern_doc = [nlp.make_doc(title.lower()) for title in unique_titles]\n",
    "matcher.add(\"JOB_ROLE\", pattern_doc)\n",
    "\n",
    "status_map = {\n",
    "    \"ft\": \"Full-time\",\n",
    "    \"full-time\": \"Full-time\",\n",
    "    \"full time\": \"Full-time\",\n",
    "    \"intern\": \"Internship\",\n",
    "    \"internship\": \"Internship\",\n",
    "    \"intern (paid)\": \"Internship\",\n",
    "    \"contract\": \"Contract\",\n",
    "    \"contractor\": \"Contract\"\n",
    "}\n",
    "mapping = {\"one\": 1.0, \"two\": 2.0,\"three\": 3.0, \"four\": 4.0,\"five\":5.0}\n",
    "\n",
    "def clean_status(status):\n",
    "    if pd.isna(status): return None\n",
    "    if \"intern\" in status: return \"Internship\"\n",
    "    if \"contract\" in status: return \"Contract\"\n",
    "    if \"full\" in status: return \"Full-time\"\n",
    "    status = status.lower().strip()\n",
    "    return status_map.get(status, status.title())\n",
    "\n",
    "# normalize the job rating\n",
    "def clean_rating(rating):\n",
    "    if pd.isna(rating): return None\n",
    "    if isinstance(rating, str):\n",
    "        rating = rating.lower().strip()\n",
    "        if rating in rating_map:\n",
    "            return rating_map(rating)\n",
    "        match = re.search(r\"[0-9.]+\", rating)\n",
    "        return float(match.group()) if match else None\n",
    "    return float(rating)\n",
    "\n",
    "# text cleaning with spacy\n",
    "def spacy_clean(text):\n",
    "    if not isinstance(text,str) or not text.strip():\n",
    "        return \"\", []\n",
    "    doc = nlp(text.lower())\n",
    "    tokens = [token.lemma_ for token in doc if token.is_alpha and not token.is_stop]\n",
    "    entities = [(ent.text, ent.label_) for ent in doc.ents]\n",
    "    matches = matcher(doc)\n",
    "    job_roles = [doc[start:end].text for _, start, end in matches]\n",
    "    return \" \".join(tokens), {\"NER\": entities, \"ROLES\": job_roles}\n",
    "        \n",
    "def process_row(row):\n",
    "    job_title_clean, job_title_entities = spacy_clean(row.get(\"Job Title\", \"\"))\n",
    "    pros_clean, pros_entities = spacy_clean(row.get(\"Pros\", \"\"))\n",
    "    cons_clean, cons_entities = spacy_clean(row.get(\"Cons\", \"\"))\n",
    "\n",
    "    return pd.Series({\n",
    "        \"Job Title Clean\": job_title_clean,\n",
    "        \"Job Title Entities\": job_title_entities,\n",
    "        \"Pros Clean\": pros_clean,\n",
    "        \"Pros Entities\": pros_entities,\n",
    "        \"Cons Clean\": cons_clean,\n",
    "        \"Cons Entities\": cons_entities,\n",
    "        \"Cleaned Status\": clean_status(row.get(\"Job Status\", \"\")),\n",
    "        \"Cleaned Rating\": clean_rating(row.get(\"Job Rating\", \"\"))\n",
    "    })\n",
    "\n",
    "data2_cleaned = data2.apply(process_row, axis=1)\n",
    "print(data2_cleaned.head())"
   ]
  },
  {
   "cell_type": "code",
   "execution_count": null,
   "id": "9aef820c-4c4b-4c8c-a474-db2b2c0ed97e",
   "metadata": {},
   "outputs": [],
   "source": [
    "nlp(\"data scientist\").similarity(nlp(\"machine learning engineer\"))"
   ]
  },
  {
   "cell_type": "code",
   "execution_count": null,
   "id": "f659f3ff-3ffd-4ca9-80a7-971108873e13",
   "metadata": {},
   "outputs": [],
   "source": [
    "nlp(\"internship\").similarity(nlp(\"full-time\"))"
   ]
  },
  {
   "cell_type": "code",
   "execution_count": null,
   "id": "4baef3ed-6296-4053-8bdc-1da2262df676",
   "metadata": {},
   "outputs": [],
   "source": [
    "nlp(\"project manager\").similarity(nlp(\"team lead\"))"
   ]
  },
  {
   "cell_type": "code",
   "execution_count": null,
   "id": "4a7709a3-1556-4a5d-90e5-eff959834d54",
   "metadata": {},
   "outputs": [],
   "source": [
    "data2.columns"
   ]
  },
  {
   "cell_type": "code",
   "execution_count": null,
   "id": "9bc2a692-1c6a-4b9c-bd05-7452a161a688",
   "metadata": {},
   "outputs": [],
   "source": [
    "# apply the cleaning\n",
    "data2[\"Employment_Type\"] = data2[\"Employment_Type\"].apply(clean_status)"
   ]
  },
  {
   "cell_type": "code",
   "execution_count": null,
   "id": "f0762027-6645-4101-952e-2e67d8573aac",
   "metadata": {
    "scrolled": true
   },
   "outputs": [],
   "source": [
    "data2[\"Job Rating\"] = data2[\"Job Rating\"].apply(clean_rating)"
   ]
  },
  {
   "cell_type": "code",
   "execution_count": null,
   "id": "f6705757-2bab-42da-aade-d809edc2505a",
   "metadata": {},
   "outputs": [],
   "source": [
    "data2[\"Company_Name\"] = data2[\"Company_Name\"].str.lower().str.replace('r[^a-zA-Z]','', regex=True).str.strip()"
   ]
  },
  {
   "cell_type": "code",
   "execution_count": null,
   "id": "93cf008d-6869-4aa5-b5de-abe07c6e7a81",
   "metadata": {},
   "outputs": [],
   "source": [
    "data2[[\"Job Title Entities\", \"Job Title\"]].head(50)"
   ]
  },
  {
   "cell_type": "code",
   "execution_count": null,
   "id": "ffeb9c21-7fbc-4892-8dc8-ff9c6ff4e083",
   "metadata": {
    "scrolled": true
   },
   "outputs": [],
   "source": [
    "data2_cleaned"
   ]
  },
  {
   "cell_type": "markdown",
   "id": "33d86efc-e0e6-4e59-ab1c-ea5ca0c3060b",
   "metadata": {},
   "source": [
    "# Transformers implementation"
   ]
  },
  {
   "cell_type": "code",
   "execution_count": null,
   "id": "b26aac73-d607-4309-b5b1-5106f20e6fcd",
   "metadata": {
    "scrolled": true
   },
   "outputs": [],
   "source": [
    "data2_cleaned"
   ]
  },
  {
   "cell_type": "code",
   "execution_count": null,
   "id": "243c8c6e-3c81-4fda-964e-d2ec72a76db6",
   "metadata": {},
   "outputs": [],
   "source": []
  },
  {
   "cell_type": "code",
   "execution_count": null,
   "id": "8f60b22e-3b3a-491e-aa68-cce53559bfa1",
   "metadata": {},
   "outputs": [],
   "source": []
  },
  {
   "cell_type": "code",
   "execution_count": null,
   "id": "d37b0e38-4bf6-4d63-88bc-146f780cbb8e",
   "metadata": {},
   "outputs": [],
   "source": []
  },
  {
   "cell_type": "code",
   "execution_count": null,
   "id": "37dd20ae-bba9-4277-afb2-502758452481",
   "metadata": {},
   "outputs": [],
   "source": []
  },
  {
   "cell_type": "code",
   "execution_count": null,
   "id": "688321be-1813-40d9-b619-a320ea3f070f",
   "metadata": {},
   "outputs": [],
   "source": []
  },
  {
   "cell_type": "code",
   "execution_count": null,
   "id": "10bb03f1-0b35-4013-a470-f7b702b87eb4",
   "metadata": {},
   "outputs": [],
   "source": []
  },
  {
   "cell_type": "code",
   "execution_count": null,
   "id": "17fc60bb-88f3-4bd0-9719-685cad2d32b5",
   "metadata": {},
   "outputs": [],
   "source": []
  },
  {
   "cell_type": "code",
   "execution_count": null,
   "id": "aec38b44-c7d9-4ded-ba20-00bec0b8130a",
   "metadata": {},
   "outputs": [],
   "source": []
  },
  {
   "cell_type": "code",
   "execution_count": null,
   "id": "96f57f74-cf46-4079-9142-f46522e52d7c",
   "metadata": {},
   "outputs": [],
   "source": []
  },
  {
   "cell_type": "code",
   "execution_count": null,
   "id": "e23895ff-37d0-4692-80e7-f5db147489f5",
   "metadata": {},
   "outputs": [],
   "source": []
  },
  {
   "cell_type": "code",
   "execution_count": null,
   "id": "7b2261ff-6f38-4091-9a15-3b7cbd2d9e13",
   "metadata": {},
   "outputs": [],
   "source": []
  }
 ],
 "metadata": {
  "kernelspec": {
   "display_name": "Python (NLP_Project)",
   "language": "python",
   "name": "nlp_project"
  },
  "language_info": {
   "codemirror_mode": {
    "name": "ipython",
    "version": 3
   },
   "file_extension": ".py",
   "mimetype": "text/x-python",
   "name": "python",
   "nbconvert_exporter": "python",
   "pygments_lexer": "ipython3",
   "version": "3.10.18"
  }
 },
 "nbformat": 4,
 "nbformat_minor": 5
}
