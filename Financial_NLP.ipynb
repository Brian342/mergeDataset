{
 "cells": [
  {
   "cell_type": "code",
   "execution_count": null,
   "id": "e73619bb-94ad-47cc-9b2a-16af1829a458",
   "metadata": {},
   "outputs": [],
   "source": []
  }
 ],
 "metadata": {
  "kernelspec": {
   "display_name": "",
   "name": ""
  },
  "language_info": {
   "name": ""
  }
 },
 "nbformat": 4,
 "nbformat_minor": 5
}
